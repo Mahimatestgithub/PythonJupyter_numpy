{
 "cells": [
  {
   "cell_type": "code",
   "execution_count": 1,
   "id": "488e13ce-cd09-4f10-84f1-1fafd7f3556b",
   "metadata": {},
   "outputs": [
    {
     "name": "stdout",
     "output_type": "stream",
     "text": [
      "hi\n"
     ]
    }
   ],
   "source": [
    "print('hi')"
   ]
  },
  {
   "cell_type": "markdown",
   "id": "39c3e53a-0bbf-4182-be2b-3b9de0251666",
   "metadata": {},
   "source": [
    "# Heading"
   ]
  },
  {
   "cell_type": "code",
   "execution_count": 1,
   "id": "5bb96649-1259-445b-b81f-5e53b8b99115",
   "metadata": {},
   "outputs": [],
   "source": [
    "import numpy as np"
   ]
  },
  {
   "cell_type": "code",
   "execution_count": 43,
   "id": "9c89d1de-3b1f-4cff-aa07-17677d908955",
   "metadata": {},
   "outputs": [
    {
     "name": "stdout",
     "output_type": "stream",
     "text": [
      "[15  2  3  4]\n"
     ]
    }
   ],
   "source": [
    "a = np.array([1,2,3,4])\n",
    "#print(a)\n",
    "# To update \n",
    "# a[0]=15\n",
    "# print(a)"
   ]
  },
  {
   "cell_type": "code",
   "execution_count": 3,
   "id": "bf41ee42-c56e-4fb9-b05a-68988e4cdc7d",
   "metadata": {},
   "outputs": [
    {
     "name": "stdout",
     "output_type": "stream",
     "text": [
      "4\n"
     ]
    }
   ],
   "source": [
    "a = np.array([1,2,3,4])\n",
    "print(a[-1])"
   ]
  },
  {
   "cell_type": "code",
   "execution_count": 6,
   "id": "d2f5325d-071c-40e3-8be9-e273583ab8ac",
   "metadata": {},
   "outputs": [
    {
     "name": "stdout",
     "output_type": "stream",
     "text": [
      "[1 2 3]\n"
     ]
    }
   ],
   "source": [
    "a = np.array([1,2,3,4])  #4 not included\n",
    "print(a[0:3])"
   ]
  },
  {
   "cell_type": "code",
   "execution_count": 7,
   "id": "52b255a7-df9f-4edc-ab5b-aebeb323839f",
   "metadata": {},
   "outputs": [
    {
     "data": {
      "text/plain": [
       "array([1, 2, 3, 4])"
      ]
     },
     "execution_count": 7,
     "metadata": {},
     "output_type": "execute_result"
    }
   ],
   "source": [
    "a = np.array([1,2,3,4])\n",
    "a"
   ]
  },
  {
   "cell_type": "code",
   "execution_count": 8,
   "id": "b86ede62-86a7-439f-b568-e776f92b776b",
   "metadata": {},
   "outputs": [
    {
     "name": "stdout",
     "output_type": "stream",
     "text": [
      "[[1 2 3 4]\n",
      " [5 6 7 8]]\n"
     ]
    }
   ],
   "source": [
    "b=np.array([[1,2,3,4],[5,6,7,8]])\n",
    "print(b)"
   ]
  },
  {
   "cell_type": "code",
   "execution_count": 9,
   "id": "cf1b93cc-8cf5-4f6c-ba05-bf7d593186fb",
   "metadata": {},
   "outputs": [
    {
     "name": "stdout",
     "output_type": "stream",
     "text": [
      "[[9. 8. 7.]\n",
      " [6. 5. 4.]]\n"
     ]
    }
   ],
   "source": [
    "b=np.array([[9.0,8.0,7.0],[6.0,5.0,4.0]]) #it will not print 0\n",
    "print(b)"
   ]
  },
  {
   "cell_type": "code",
   "execution_count": 13,
   "id": "bfc57d8b-c616-4b98-b1a8-bd1068a85df7",
   "metadata": {},
   "outputs": [
    {
     "data": {
      "text/plain": [
       "2"
      ]
     },
     "execution_count": 13,
     "metadata": {},
     "output_type": "execute_result"
    }
   ],
   "source": [
    "#Get Dimension \n",
    "#For this, we have an attribute to find the dimension of an array\n",
    "\n",
    "#Note the difference between Attribute and Function .In Attribute no need to put Parenthesis\n",
    "#a.ndim\n",
    "\n",
    "b.ndim     #b is 2D array    \n",
    "\n"
   ]
  },
  {
   "cell_type": "code",
   "execution_count": 1,
   "id": "ebf70704-a708-414b-aa16-91cd66e96f4a",
   "metadata": {},
   "outputs": [
    {
     "data": {
      "text/plain": [
       "(4,)"
      ]
     },
     "execution_count": 1,
     "metadata": {},
     "output_type": "execute_result"
    }
   ],
   "source": [
    "#Get Shape\n",
    "import numpy as np\n",
    "a = np.array([1,2,3,4])\n",
    "a.shape\n",
    "#b.shape      #since 2rows and 3 columns in b"
   ]
  },
  {
   "cell_type": "code",
   "execution_count": 2,
   "id": "ac103d96-bb25-4c2d-b33d-1ec14396cf7a",
   "metadata": {},
   "outputs": [
    {
     "name": "stdout",
     "output_type": "stream",
     "text": [
      "[1 2 3 4 5 6]\n",
      "[[1]\n",
      " [2]\n",
      " [3]\n",
      " [4]\n",
      " [5]\n",
      " [6]]\n"
     ]
    }
   ],
   "source": [
    "#reshape\n",
    "import numpy as np\n",
    "\n",
    "x=np.array([1,2,3,4,5,6])\n",
    "print(x)\n",
    "\n",
    "# y=x.reshape(2,3)\n",
    "# print(y)\n",
    "\n",
    "# y=x.reshape(3,2)\n",
    "# print(y)\n",
    "\n",
    "y=x.reshape(6,1)\n",
    "print(y)"
   ]
  },
  {
   "cell_type": "code",
   "execution_count": 23,
   "id": "37339c6d-9ee5-4d78-a53a-73aa9b8d056d",
   "metadata": {},
   "outputs": [
    {
     "data": {
      "text/plain": [
       "dtype('float64')"
      ]
     },
     "execution_count": 23,
     "metadata": {},
     "output_type": "execute_result"
    }
   ],
   "source": [
    "#Get Type\n",
    "# a.dtype #dtype means datatype\n",
    "b.dtype"
   ]
  },
  {
   "cell_type": "code",
   "execution_count": 26,
   "id": "0f7715e4-d159-4326-b03d-d0d1aed3d311",
   "metadata": {},
   "outputs": [
    {
     "data": {
      "text/plain": [
       "8"
      ]
     },
     "execution_count": 26,
     "metadata": {},
     "output_type": "execute_result"
    }
   ],
   "source": [
    "#Get Size\n",
    "b.itemsize       #64bits =8bytes\n",
    "# a.itemsize    32 bits=4bytes "
   ]
  },
  {
   "cell_type": "code",
   "execution_count": 28,
   "id": "7ebcdc8b-776a-4756-952c-47bc094365b6",
   "metadata": {},
   "outputs": [
    {
     "data": {
      "text/plain": [
       "48"
      ]
     },
     "execution_count": 28,
     "metadata": {},
     "output_type": "execute_result"
    }
   ],
   "source": [
    "#Get total Size\n",
    "# a.nbytes     #in a we have 4 elements and each element is of 4 bytes ,so 4*4bytes=16\n",
    "b.nbytes   # 6*8=48 since 6 elements and each of 8 bytes "
   ]
  },
  {
   "cell_type": "code",
   "execution_count": 30,
   "id": "686e018a-3fc0-4716-a3b2-77339fcd33be",
   "metadata": {},
   "outputs": [
    {
     "data": {
      "text/plain": [
       "6"
      ]
     },
     "execution_count": 30,
     "metadata": {},
     "output_type": "execute_result"
    }
   ],
   "source": [
    "#Get number of elements\n",
    "# a.size\n",
    "b.size"
   ]
  },
  {
   "cell_type": "markdown",
   "id": "af05182d-740c-4bb5-aa1c-6233d42f700f",
   "metadata": {},
   "source": [
    "# Acessing/Changing Specific Elements,Rows,Columns,etc"
   ]
  },
  {
   "cell_type": "code",
   "execution_count": 34,
   "id": "acab66a7-fbe3-43ee-9939-c32559050436",
   "metadata": {},
   "outputs": [
    {
     "name": "stdout",
     "output_type": "stream",
     "text": [
      "[[ 1  2  3  4  5  6  7]\n",
      " [ 8  9 10 11 12 13 14]]\n"
     ]
    }
   ],
   "source": [
    "a= np.array([[1,2,3,4,5,6,7],[8,9,10,11,12,13,14]])\n",
    "print(a)"
   ]
  },
  {
   "cell_type": "code",
   "execution_count": 35,
   "id": "67c36ff8-3240-4ce5-ac49-2ffcc25442e0",
   "metadata": {},
   "outputs": [
    {
     "data": {
      "text/plain": [
       "13"
      ]
     },
     "execution_count": 35,
     "metadata": {},
     "output_type": "execute_result"
    }
   ],
   "source": [
    "#Get specfic element[r,c]\n",
    "a[1,5]"
   ]
  },
  {
   "cell_type": "code",
   "execution_count": 36,
   "id": "45baf4a7-a526-465d-9b91-31ea1bca12e6",
   "metadata": {},
   "outputs": [
    {
     "data": {
      "text/plain": [
       "array([ 8,  9, 10, 11, 12, 13, 14])"
      ]
     },
     "execution_count": 36,
     "metadata": {},
     "output_type": "execute_result"
    }
   ],
   "source": [
    "#Get specific row\n",
    "\n",
    "# a[1,:]     #it accesses 1st row only\n",
    "b[2,:]          #it accesses 2nd row only\n",
    "\n"
   ]
  },
  {
   "cell_type": "code",
   "execution_count": 38,
   "id": "f8aecd8c-ff37-4348-8035-a1a8d77bfee1",
   "metadata": {},
   "outputs": [
    {
     "data": {
      "text/plain": [
       "array([ 6, 13])"
      ]
     },
     "execution_count": 38,
     "metadata": {},
     "output_type": "execute_result"
    }
   ],
   "source": [
    "#Get specific column\n",
    "a[:,2] #in both rows see the 2nd column it is 3,10\n",
    "#a[:,5]"
   ]
  },
  {
   "cell_type": "code",
   "execution_count": 39,
   "id": "e17311e1-c202-4055-934b-e321ce017ce2",
   "metadata": {},
   "outputs": [
    {
     "data": {
      "text/plain": [
       "array([2, 4, 6])"
      ]
     },
     "execution_count": 39,
     "metadata": {},
     "output_type": "execute_result"
    }
   ],
   "source": [
    "#[startindex:endindex:stepsize]\n",
    "a[0,1:6:2]"
   ]
  },
  {
   "cell_type": "code",
   "execution_count": 40,
   "id": "598bcaf3-ae5c-42dc-b215-8a6fd5d473de",
   "metadata": {},
   "outputs": [
    {
     "name": "stdout",
     "output_type": "stream",
     "text": [
      "[[ 1  2  3  4  5  6  7]\n",
      " [ 8  9 10 11 12 13 14]]\n"
     ]
    }
   ],
   "source": [
    "print(a)"
   ]
  },
  {
   "cell_type": "code",
   "execution_count": 42,
   "id": "35469a86-4191-4fb3-8048-8df8ef10606e",
   "metadata": {},
   "outputs": [
    {
     "name": "stdout",
     "output_type": "stream",
     "text": [
      "[[ 1  2  3  4  5  6  7]\n",
      " [ 8  9 10 11 12 27 14]]\n"
     ]
    }
   ],
   "source": [
    "#Update an element \n",
    "a[1,5]=27\n",
    "print(a)\n"
   ]
  },
  {
   "cell_type": "code",
   "execution_count": 47,
   "id": "d15eac5f-e4d7-4368-8c3b-727dfb968dfd",
   "metadata": {},
   "outputs": [
    {
     "name": "stdout",
     "output_type": "stream",
     "text": [
      "[[ 1  2  3  4  5  6  7]\n",
      " [ 8  9 10 11 12 13 14]]\n",
      "[[ 1  2  5  4  5  6  7]\n",
      " [ 8  9  5 11 12 13 14]]\n"
     ]
    }
   ],
   "source": [
    "#Update elements\n",
    "a= np.array([[1,2,3,4,5,6,7],[8,9,10,11,12,13,14]])\n",
    "print(a)\n",
    "a[:,2] = 5        #In 2nd column update 5,5\n",
    "print(a)"
   ]
  },
  {
   "cell_type": "code",
   "execution_count": 49,
   "id": "4a70582e-80c6-4dd0-ae34-4bb8b6ee2f8e",
   "metadata": {},
   "outputs": [
    {
     "name": "stdout",
     "output_type": "stream",
     "text": [
      "[[ 1  2 18  4  5  6  7]\n",
      " [21 21 21 21 21 21 21]]\n"
     ]
    }
   ],
   "source": [
    "a[1:,] = 21       #In 2nd row update all elements as 21\n",
    "print(a)"
   ]
  },
  {
   "cell_type": "code",
   "execution_count": 48,
   "id": "f232f790-ff89-4cfa-a68f-15796f98b995",
   "metadata": {},
   "outputs": [
    {
     "name": "stdout",
     "output_type": "stream",
     "text": [
      "[[ 1  2 18  4  5  6  7]\n",
      " [ 8  9 19 11 12 13 14]]\n"
     ]
    }
   ],
   "source": [
    "#Update elements\n",
    "a[:,2] = [18,19]       #In 2nd column update 18,19\n",
    "print(a)"
   ]
  },
  {
   "cell_type": "markdown",
   "id": "54eb289e-4afa-419b-9be0-327cd5e40109",
   "metadata": {},
   "source": [
    "# 3D Array"
   ]
  },
  {
   "cell_type": "code",
   "execution_count": 50,
   "id": "178c4386-9a36-48fd-ab4c-d02c6c345b00",
   "metadata": {},
   "outputs": [
    {
     "name": "stdout",
     "output_type": "stream",
     "text": [
      "[[[1 2]\n",
      "  [3 4]]\n",
      "\n",
      " [[5 6]\n",
      "  [7 8]]]\n"
     ]
    }
   ],
   "source": [
    "c =np.array([[[1,2],[3,4]],[[5,6],[7,8]]])  #four 1D array combines to two 2D array\n",
    "print(c)"
   ]
  },
  {
   "cell_type": "code",
   "execution_count": 52,
   "id": "b186a181-de7f-4605-949e-fe4bec5ffb2c",
   "metadata": {},
   "outputs": [
    {
     "name": "stdout",
     "output_type": "stream",
     "text": [
      "[[1 2]\n",
      " [3 4]]\n"
     ]
    }
   ],
   "source": [
    "b =np.array([[[1,2],[3,4]],[[5,6],[7,8]]])  #four 1D array combines to two 2D array\n",
    "print(b[0,:,:])   #1st is plane,2nd is row,3rd is column"
   ]
  },
  {
   "cell_type": "markdown",
   "id": "ae1b05ae-9d6f-4801-8649-4ff0a351b455",
   "metadata": {},
   "source": [
    "# Initializing Different Types of Arrays \n"
   ]
  },
  {
   "cell_type": "code",
   "execution_count": 56,
   "id": "21dda905-4b7a-4b92-80ad-5e801f073e48",
   "metadata": {},
   "outputs": [
    {
     "data": {
      "text/plain": [
       "array([[[0, 0, 0],\n",
       "        [0, 0, 0],\n",
       "        [0, 0, 0]],\n",
       "\n",
       "       [[0, 0, 0],\n",
       "        [0, 0, 0],\n",
       "        [0, 0, 0]]])"
      ]
     },
     "execution_count": 56,
     "metadata": {},
     "output_type": "execute_result"
    }
   ],
   "source": [
    "#All 0s matrix\n",
    "# np.zeros((2,3))    default is double  and here we are giving size \n",
    "#np.zeros((2,3),dtype='int32')  #to cobvert it to int \n",
    "np.zeros((2,3,3),dtype='int32')    # 2 plan and 3X3 matrix \n"
   ]
  },
  {
   "cell_type": "code",
   "execution_count": 58,
   "id": "7f95c1d1-ba6f-49f2-84d3-0f271c05bc64",
   "metadata": {},
   "outputs": [
    {
     "data": {
      "text/plain": [
       "array([[[1, 1],\n",
       "        [1, 1]],\n",
       "\n",
       "       [[1, 1],\n",
       "        [1, 1]],\n",
       "\n",
       "       [[1, 1],\n",
       "        [1, 1]],\n",
       "\n",
       "       [[1, 1],\n",
       "        [1, 1]]])"
      ]
     },
     "execution_count": 58,
     "metadata": {},
     "output_type": "execute_result"
    }
   ],
   "source": [
    "#All 1s matrix\n",
    "np.ones((4,2,2),dtype='int32')  #4 plane and 2X2 matrix"
   ]
  },
  {
   "cell_type": "code",
   "execution_count": 59,
   "id": "39c75d07-802e-4fb0-b042-19bfeaac6731",
   "metadata": {},
   "outputs": [
    {
     "data": {
      "text/plain": [
       "array([[27, 27],\n",
       "       [27, 27]])"
      ]
     },
     "execution_count": 59,
     "metadata": {},
     "output_type": "execute_result"
    }
   ],
   "source": [
    "#Any other number \n",
    "np.full((2,2),27)"
   ]
  },
  {
   "cell_type": "code",
   "execution_count": 63,
   "id": "a538302b-8479-4d37-9078-b9d16d983d58",
   "metadata": {
    "scrolled": true
   },
   "outputs": [
    {
     "name": "stdout",
     "output_type": "stream",
     "text": [
      "[[ 1  2 18  4  5  6  7]\n",
      " [21 21 21 21 21 21 21]]\n"
     ]
    },
    {
     "data": {
      "text/plain": [
       "array([[4, 4, 4, 4, 4, 4, 4],\n",
       "       [4, 4, 4, 4, 4, 4, 4]])"
      ]
     },
     "execution_count": 63,
     "metadata": {},
     "output_type": "execute_result"
    }
   ],
   "source": [
    "print(a)\n",
    "#Any other number(full_like)\n",
    "np.full(a,4)\n"
   ]
  },
  {
   "cell_type": "markdown",
   "id": "029960e4-3ece-47ee-9291-8d8afae842a7",
   "metadata": {},
   "source": [
    "# Most important Random decimal numbers"
   ]
  },
  {
   "cell_type": "code",
   "execution_count": 68,
   "id": "bb523c5e-40ef-4155-91f1-abcef6b8e385",
   "metadata": {},
   "outputs": [
    {
     "data": {
      "text/plain": [
       "array([[0.69743451, 0.78947407],\n",
       "       [0.19891519, 0.38894745],\n",
       "       [0.38038342, 0.84934291],\n",
       "       [0.43989818, 0.85713325]])"
      ]
     },
     "execution_count": 68,
     "metadata": {},
     "output_type": "execute_result"
    }
   ],
   "source": [
    "#Random decimal numbers\n",
    "np.random.rand(4,2)  #rand gives normal distribution means the range between 0&1(any random value)"
   ]
  },
  {
   "cell_type": "code",
   "execution_count": 69,
   "id": "ce57da0f-0c51-4367-9943-16ecc1188a7b",
   "metadata": {},
   "outputs": [
    {
     "data": {
      "text/plain": [
       "array([[-2,  0, -4],\n",
       "       [ 3,  1,  7],\n",
       "       [-3, -2,  1]])"
      ]
     },
     "execution_count": 69,
     "metadata": {},
     "output_type": "execute_result"
    }
   ],
   "source": [
    "#Random Integer Values\n",
    "np.random.randint(-4,8,size=(3,3))     #it generates random values between -4 & 8 and stores it in 3X3 matrix"
   ]
  },
  {
   "cell_type": "code",
   "execution_count": 70,
   "id": "9f531be4-4478-4f4d-bcf0-29df25cd7913",
   "metadata": {},
   "outputs": [
    {
     "data": {
      "text/plain": [
       "array([[1., 0., 0., 0., 0.],\n",
       "       [0., 1., 0., 0., 0.],\n",
       "       [0., 0., 1., 0., 0.],\n",
       "       [0., 0., 0., 1., 0.],\n",
       "       [0., 0., 0., 0., 1.]])"
      ]
     },
     "execution_count": 70,
     "metadata": {},
     "output_type": "execute_result"
    }
   ],
   "source": [
    "#The identity matrix\n",
    "np.identity(5) #default is float "
   ]
  },
  {
   "cell_type": "markdown",
   "id": "1f6f72dc-5fe1-4f68-a5bb-3d6791498261",
   "metadata": {},
   "source": [
    "# Copy and Other Operations"
   ]
  },
  {
   "cell_type": "code",
   "execution_count": 71,
   "id": "7d353b34-0b23-44fa-835b-9e8643e07b99",
   "metadata": {},
   "outputs": [
    {
     "name": "stdout",
     "output_type": "stream",
     "text": [
      "[100   2   3]\n"
     ]
    }
   ],
   "source": [
    "a=np.array([1,2,3])\n",
    "b=a\n",
    "b[0]=100\n",
    "\n",
    "print(a)"
   ]
  },
  {
   "cell_type": "code",
   "execution_count": 72,
   "id": "fa4bbde3-7666-4889-9305-70f742eec054",
   "metadata": {},
   "outputs": [
    {
     "name": "stdout",
     "output_type": "stream",
     "text": [
      "[100   2   3]\n",
      "[1 2 3]\n"
     ]
    }
   ],
   "source": [
    "a=np.array([1,2,3])\n",
    "b=a.copy()       #by copying a into b only , b will become new array\n",
    "b[0]=100\n",
    "\n",
    "print(b)\n",
    "print(a)"
   ]
  },
  {
   "cell_type": "code",
   "execution_count": null,
   "id": "8c748846-ec4a-4eeb-8182-93f8bf0a1668",
   "metadata": {},
   "outputs": [],
   "source": []
  }
 ],
 "metadata": {
  "kernelspec": {
   "display_name": "Python 3 (ipykernel)",
   "language": "python",
   "name": "python3"
  },
  "language_info": {
   "codemirror_mode": {
    "name": "ipython",
    "version": 3
   },
   "file_extension": ".py",
   "mimetype": "text/x-python",
   "name": "python",
   "nbconvert_exporter": "python",
   "pygments_lexer": "ipython3",
   "version": "3.11.4"
  }
 },
 "nbformat": 4,
 "nbformat_minor": 5
}
