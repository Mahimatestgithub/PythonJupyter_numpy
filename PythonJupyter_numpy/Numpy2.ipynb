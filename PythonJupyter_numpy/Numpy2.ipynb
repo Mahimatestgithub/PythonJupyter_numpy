{
 "cells": [
  {
   "cell_type": "markdown",
   "id": "b48c83f5-e2fe-42fb-bd4a-d50e9b524b22",
   "metadata": {},
   "source": [
    "# Arithmetic Operations on Numpy Array"
   ]
  },
  {
   "cell_type": "code",
   "execution_count": null,
   "id": "ee8f6780-0e58-4f0c-b7fd-c2a19be37725",
   "metadata": {},
   "outputs": [],
   "source": [
    "import numpy as np"
   ]
  },
  {
   "cell_type": "code",
   "execution_count": 3,
   "id": "3758007a-baf4-482c-b0b4-7dac58aaddad",
   "metadata": {},
   "outputs": [
    {
     "name": "stdout",
     "output_type": "stream",
     "text": [
      "[1 2 3 4]\n"
     ]
    }
   ],
   "source": [
    "a=np.array([1,2,3,4])\n",
    "print(a)"
   ]
  },
  {
   "cell_type": "code",
   "execution_count": 5,
   "id": "63449714-f330-4323-91d0-4a8b7ec6cc28",
   "metadata": {},
   "outputs": [
    {
     "data": {
      "text/plain": [
       "array([3, 4, 5, 6])"
      ]
     },
     "execution_count": 5,
     "metadata": {},
     "output_type": "execute_result"
    }
   ],
   "source": [
    "a+2"
   ]
  },
  {
   "cell_type": "code",
   "execution_count": 6,
   "id": "7ac0b6e6-737f-422d-8eca-18997fdc5129",
   "metadata": {},
   "outputs": [
    {
     "data": {
      "text/plain": [
       "array([-1,  0,  1,  2])"
      ]
     },
     "execution_count": 6,
     "metadata": {},
     "output_type": "execute_result"
    }
   ],
   "source": [
    "a-2         #2 is subtracted from original array"
   ]
  },
  {
   "cell_type": "code",
   "execution_count": 7,
   "id": "3d5a8cff-ac6f-4edb-b180-fa2b44e2fb51",
   "metadata": {},
   "outputs": [
    {
     "name": "stdout",
     "output_type": "stream",
     "text": [
      "[-1  0  1  2]\n"
     ]
    }
   ],
   "source": [
    "b=a-2\n",
    "print(b)"
   ]
  },
  {
   "cell_type": "code",
   "execution_count": 8,
   "id": "8a01505c-df76-4ca8-af3f-593c0237833e",
   "metadata": {},
   "outputs": [
    {
     "data": {
      "text/plain": [
       "array([2, 4, 6, 8])"
      ]
     },
     "execution_count": 8,
     "metadata": {},
     "output_type": "execute_result"
    }
   ],
   "source": [
    "a*2"
   ]
  },
  {
   "cell_type": "code",
   "execution_count": 9,
   "id": "23c5cd46-1cfe-4d79-9bd2-94651382a976",
   "metadata": {},
   "outputs": [
    {
     "data": {
      "text/plain": [
       "array([0.5, 1. , 1.5, 2. ])"
      ]
     },
     "execution_count": 9,
     "metadata": {},
     "output_type": "execute_result"
    }
   ],
   "source": [
    "a/2"
   ]
  },
  {
   "cell_type": "code",
   "execution_count": 10,
   "id": "0cd9a9ba-ba05-4839-bab3-9fa62de34c6d",
   "metadata": {},
   "outputs": [
    {
     "data": {
      "text/plain": [
       "array([ 1,  4,  9, 16])"
      ]
     },
     "execution_count": 10,
     "metadata": {},
     "output_type": "execute_result"
    }
   ],
   "source": [
    "a**2\n"
   ]
  },
  {
   "cell_type": "code",
   "execution_count": 11,
   "id": "ebb511bc-3157-4d06-ba00-c0da92b486d6",
   "metadata": {},
   "outputs": [
    {
     "data": {
      "text/plain": [
       "array([1, 0, 1, 0], dtype=int32)"
      ]
     },
     "execution_count": 11,
     "metadata": {},
     "output_type": "execute_result"
    }
   ],
   "source": [
    "a%2"
   ]
  },
  {
   "cell_type": "code",
   "execution_count": 12,
   "id": "e966eb15-a9aa-4799-a526-916392e84c1d",
   "metadata": {},
   "outputs": [
    {
     "data": {
      "text/plain": [
       "array([ 5,  7,  9, 11])"
      ]
     },
     "execution_count": 12,
     "metadata": {},
     "output_type": "execute_result"
    }
   ],
   "source": [
    "a=np.array([1,2,3,4])  #Dimensions must be same \n",
    "b=np.array([4,5,6,7])\n",
    "a+b"
   ]
  },
  {
   "cell_type": "code",
   "execution_count": 14,
   "id": "9b2e9275-eaa8-44d1-8be7-2f43b0a9d35f",
   "metadata": {},
   "outputs": [
    {
     "data": {
      "text/plain": [
       "0.8414709848078965"
      ]
     },
     "execution_count": 14,
     "metadata": {},
     "output_type": "execute_result"
    }
   ],
   "source": [
    "#Trignometric Functions\n",
    "#np.sin(a)\n",
    "np.sin(a[0])"
   ]
  },
  {
   "cell_type": "code",
   "execution_count": null,
   "id": "710924a2-cbe9-4496-8a39-f565d5ddccb4",
   "metadata": {},
   "outputs": [],
   "source": [
    "# More Funtions on Numpy array\n",
    "# https://numpy.org/doc/stable/reference/routines.math.html"
   ]
  },
  {
   "cell_type": "markdown",
   "id": "ab7fb558-5e94-4f45-874c-db71f7f3ec34",
   "metadata": {},
   "source": [
    "# Linear Algebra"
   ]
  },
  {
   "cell_type": "code",
   "execution_count": 6,
   "id": "7cc341b4-b39e-47f6-a4f7-dcb00cacadcf",
   "metadata": {},
   "outputs": [],
   "source": [
    "import numpy as np"
   ]
  },
  {
   "cell_type": "code",
   "execution_count": 5,
   "id": "821f1cfc-0c3d-410a-9b37-ede7779aa36a",
   "metadata": {},
   "outputs": [
    {
     "name": "stdout",
     "output_type": "stream",
     "text": [
      "[[ 1  2  3  4]\n",
      " [ 8  9 10 11]]\n",
      "[[4 1]\n",
      " [5 3]\n",
      " [6 8]\n",
      " [3 2]]\n"
     ]
    }
   ],
   "source": [
    "a=np.array([[1,2,3,4],[8,9,10,11]])     2X4 Matrix\n",
    "print(a)\n",
    "b=np.array([[4,1],[5,3],[6,8],[3,2]])   4X4 Matrix\n",
    "print(b)"
   ]
  },
  {
   "cell_type": "code",
   "execution_count": 7,
   "id": "e79c4b98-fa36-4acd-8212-7107116a8394",
   "metadata": {},
   "outputs": [
    {
     "data": {
      "text/plain": [
       "array([[ 44,  39],\n",
       "       [170, 137]])"
      ]
     },
     "execution_count": 7,
     "metadata": {},
     "output_type": "execute_result"
    }
   ],
   "source": [
    "#Matrix Multiplication:\n",
    "np.matmul(a,b)   # mat for matrix and mul for multiplication"
   ]
  },
  {
   "cell_type": "code",
   "execution_count": 8,
   "id": "d1f93017-723d-4f1c-95df-e6f94e677006",
   "metadata": {},
   "outputs": [
    {
     "data": {
      "text/plain": [
       "9.000000000000005"
      ]
     },
     "execution_count": 8,
     "metadata": {},
     "output_type": "execute_result"
    }
   ],
   "source": [
    "# Determinant of a matrix\n",
    "a = np.array([[1,2,6],[7,8,9],[4,5,6]])\n",
    "np.linalg.det(a)   # linearalgebra determinant\n"
   ]
  },
  {
   "cell_type": "code",
   "execution_count": 9,
   "id": "b5a15516-8640-4f71-ba0d-4a3f4193763a",
   "metadata": {},
   "outputs": [
    {
     "data": {
      "text/plain": [
       "EigResult(eigenvalues=array([-3., 13.]), eigenvectors=array([[-0.83205029, -0.4472136 ],\n",
       "       [ 0.5547002 , -0.89442719]]))"
      ]
     },
     "execution_count": 9,
     "metadata": {},
     "output_type": "execute_result"
    }
   ],
   "source": [
    "#Eigen Value of square matrix\n",
    "a = np.array([[1,6],[8,9]])\n",
    "np.linalg.eig(a)"
   ]
  },
  {
   "cell_type": "code",
   "execution_count": 10,
   "id": "a07995ca-a462-4ae3-844d-0df530ef7370",
   "metadata": {},
   "outputs": [],
   "source": [
    "# For More linalg functions:\n",
    "# https://docs.scipy.org/doc/numpy/reference/routines.linalg.html\n",
    "\n",
    "\n",
    "# Determinant\n",
    "# Trace\n",
    "# Singular Vector Decomposition\n",
    "# Eigenvalues\n",
    "# Matrix Norm\n",
    "# Inverse\n",
    "# Etc..."
   ]
  },
  {
   "cell_type": "markdown",
   "id": "35ed8c39-d403-44bd-8776-8d460dbf78e8",
   "metadata": {},
   "source": [
    "# Statistics"
   ]
  },
  {
   "cell_type": "code",
   "execution_count": 11,
   "id": "d401d638-b66f-47ee-97c3-f580a0b01678",
   "metadata": {},
   "outputs": [
    {
     "data": {
      "text/plain": [
       "array([[3, 6, 2],\n",
       "       [4, 5, 1]])"
      ]
     },
     "execution_count": 11,
     "metadata": {},
     "output_type": "execute_result"
    }
   ],
   "source": [
    "a = np.array([[3,6,2],[4,5,1]])\n",
    "a"
   ]
  },
  {
   "cell_type": "code",
   "execution_count": 12,
   "id": "e216c0ba-131b-4c21-8808-896e7e221f34",
   "metadata": {},
   "outputs": [
    {
     "data": {
      "text/plain": [
       "1"
      ]
     },
     "execution_count": 12,
     "metadata": {},
     "output_type": "execute_result"
    }
   ],
   "source": [
    "# Find minimum\n",
    "np.min(a)"
   ]
  },
  {
   "cell_type": "code",
   "execution_count": 15,
   "id": "701c1e18-a643-418b-8739-f092b9d83d74",
   "metadata": {},
   "outputs": [
    {
     "data": {
      "text/plain": [
       "array([2, 1])"
      ]
     },
     "execution_count": 15,
     "metadata": {},
     "output_type": "execute_result"
    }
   ],
   "source": [
    "# Row wise min\n",
    "np.min(a,axis=1)   #gives min element of each row  #for row use axis =1"
   ]
  },
  {
   "cell_type": "code",
   "execution_count": 16,
   "id": "69be939b-13e2-4098-bfec-2938fa87ef5b",
   "metadata": {},
   "outputs": [
    {
     "data": {
      "text/plain": [
       "array([3, 5, 1])"
      ]
     },
     "execution_count": 16,
     "metadata": {},
     "output_type": "execute_result"
    }
   ],
   "source": [
    "# Column wise min\n",
    "np.min(a, axis=0) #gives min element of each Column  #for Column use axis =0"
   ]
  },
  {
   "cell_type": "code",
   "execution_count": 17,
   "id": "fe390be2-102f-4be8-bf56-ce8d9215bc74",
   "metadata": {},
   "outputs": [
    {
     "data": {
      "text/plain": [
       "6"
      ]
     },
     "execution_count": 17,
     "metadata": {},
     "output_type": "execute_result"
    }
   ],
   "source": [
    "# Similarly Max\n",
    "np.max(a)"
   ]
  },
  {
   "cell_type": "code",
   "execution_count": 18,
   "id": "55a63d76-faf7-414d-aa64-d37c32ff7d65",
   "metadata": {},
   "outputs": [
    {
     "data": {
      "text/plain": [
       "array([6, 5])"
      ]
     },
     "execution_count": 18,
     "metadata": {},
     "output_type": "execute_result"
    }
   ],
   "source": [
    "# Row wise max\n",
    "np.max(a, axis=1)"
   ]
  },
  {
   "cell_type": "code",
   "execution_count": 19,
   "id": "2e3fc0b7-5bac-48e8-9c89-f6de46b95926",
   "metadata": {},
   "outputs": [
    {
     "data": {
      "text/plain": [
       "array([4, 6, 2])"
      ]
     },
     "execution_count": 19,
     "metadata": {},
     "output_type": "execute_result"
    }
   ],
   "source": [
    "# Column wise max\n",
    "np.max(a, axis=0)"
   ]
  },
  {
   "cell_type": "code",
   "execution_count": 20,
   "id": "2226eecb-c347-4d19-a43f-53d0bb264c2b",
   "metadata": {},
   "outputs": [
    {
     "data": {
      "text/plain": [
       "21"
      ]
     },
     "execution_count": 20,
     "metadata": {},
     "output_type": "execute_result"
    }
   ],
   "source": [
    "# Sum of elements\n",
    "np.sum(a)"
   ]
  },
  {
   "cell_type": "code",
   "execution_count": 21,
   "id": "ca3804d8-9f75-40d4-b0d9-2c4fa4a31530",
   "metadata": {},
   "outputs": [
    {
     "data": {
      "text/plain": [
       "array([11, 10])"
      ]
     },
     "execution_count": 21,
     "metadata": {},
     "output_type": "execute_result"
    }
   ],
   "source": [
    "#Can you use axis for sum?\n",
    "#for rows\n",
    "np.sum(a, axis = 1)"
   ]
  },
  {
   "cell_type": "code",
   "execution_count": 22,
   "id": "a0c2d22e-11e3-4f0a-b396-a2e43c8f1ac1",
   "metadata": {},
   "outputs": [
    {
     "data": {
      "text/plain": [
       "array([ 7, 11,  3])"
      ]
     },
     "execution_count": 22,
     "metadata": {},
     "output_type": "execute_result"
    }
   ],
   "source": [
    "#for Column\n",
    "np.sum(a, axis = 0)"
   ]
  },
  {
   "cell_type": "code",
   "execution_count": 23,
   "id": "f6f56261-80e0-431a-bc37-e03dde269f33",
   "metadata": {},
   "outputs": [
    {
     "data": {
      "text/plain": [
       "4.333333333333333"
      ]
     },
     "execution_count": 23,
     "metadata": {},
     "output_type": "execute_result"
    }
   ],
   "source": [
    "# mean \n",
    "a = np.array([[1,6,9],[4,5,1]])\n",
    "np.mean(a)"
   ]
  },
  {
   "cell_type": "code",
   "execution_count": 24,
   "id": "cca2f836-445d-4862-88dd-0c03bc7451af",
   "metadata": {},
   "outputs": [
    {
     "data": {
      "text/plain": [
       "4.5"
      ]
     },
     "execution_count": 24,
     "metadata": {},
     "output_type": "execute_result"
    }
   ],
   "source": [
    "# median\n",
    "a = np.array([[1,6,9],[4,5,1]])\n",
    "np.median(a)             #on sorting we get 1,1,4,5,6,9 i.e (4+5)/2"
   ]
  },
  {
   "cell_type": "code",
   "execution_count": 25,
   "id": "a5613d1a-b308-4bc5-93eb-04c00b5daf6e",
   "metadata": {},
   "outputs": [
    {
     "data": {
      "text/plain": [
       "2.8087165910587863"
      ]
     },
     "execution_count": 25,
     "metadata": {},
     "output_type": "execute_result"
    }
   ],
   "source": [
    "# standard deviation   #S.D=root variance \n",
    "np.std(a)"
   ]
  },
  {
   "cell_type": "code",
   "execution_count": 26,
   "id": "7e1fe021-7be0-4768-86f7-79f78d45748d",
   "metadata": {},
   "outputs": [
    {
     "data": {
      "text/plain": [
       "7.888888888888889"
      ]
     },
     "execution_count": 26,
     "metadata": {},
     "output_type": "execute_result"
    }
   ],
   "source": [
    "# Variation\n",
    "np.var(a)"
   ]
  },
  {
   "cell_type": "markdown",
   "id": "bc65ffbc-8433-49dd-a834-768246f8f4a1",
   "metadata": {},
   "source": [
    "# Linear Equations\n"
   ]
  },
  {
   "cell_type": "code",
   "execution_count": 27,
   "id": "80a0626a-926c-4f9b-8134-55ace683e919",
   "metadata": {},
   "outputs": [
    {
     "data": {
      "text/plain": [
       "array([2., 1.])"
      ]
     },
     "execution_count": 27,
     "metadata": {},
     "output_type": "execute_result"
    }
   ],
   "source": [
    "# 4x + 5y = 13\n",
    "# 5x - 3y = 7\n",
    "coeff1 = np.array([[4,5],[5,-3]])\n",
    "coeff2 = np.array([13,7])\n",
    "\n",
    "np.linalg.solve(coeff1, coeff2)      #x=2 y=1 comes as result"
   ]
  },
  {
   "cell_type": "code",
   "execution_count": null,
   "id": "d0650c88-7aa5-4989-883c-15677df97187",
   "metadata": {},
   "outputs": [],
   "source": [
    "# More Statistical Funcions\n",
    "\n",
    "# https://numpy.org/doc/stable/reference/routines.statistics.html"
   ]
  }
 ],
 "metadata": {
  "kernelspec": {
   "display_name": "Python 3 (ipykernel)",
   "language": "python",
   "name": "python3"
  },
  "language_info": {
   "codemirror_mode": {
    "name": "ipython",
    "version": 3
   },
   "file_extension": ".py",
   "mimetype": "text/x-python",
   "name": "python",
   "nbconvert_exporter": "python",
   "pygments_lexer": "ipython3",
   "version": "3.11.4"
  }
 },
 "nbformat": 4,
 "nbformat_minor": 5
}
